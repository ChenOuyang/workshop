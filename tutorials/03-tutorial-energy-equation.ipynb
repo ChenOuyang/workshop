{
 "cells": [
  {
   "cell_type": "markdown",
   "metadata": {},
   "source": [
    "# Tutorial 03: Energy equation\n",
    "\n",
    "Apart from magnetisation and dynamics, energy equation must be defined for a micromagnetic system. In this tutorial, we explore how an energy equation can be specified in Ubermag.\n",
    "\n",
    "Throughout this tutorial, for simplicity, we are going to use a one-dimensional sample (a chain of magnetic moments)."
   ]
  },
  {
   "cell_type": "code",
   "execution_count": 48,
   "metadata": {},
   "outputs": [
    {
     "data": {
      "application/vnd.jupyter.widget-view+json": {
       "model_id": "5c33d28d2dc146ff986231773167b3df",
       "version_major": 2,
       "version_minor": 0
      },
      "text/plain": [
       "Output()"
      ]
     },
     "metadata": {},
     "output_type": "display_data"
    }
   ],
   "source": [
    "import discretisedfield as df\n",
    "import micromagneticmodel as mm\n",
    "\n",
    "%matplotlib inline\n",
    "\n",
    "p1 = (0, 0, 0)\n",
    "p2 = (10e-9, 1e-9, 1e-9)\n",
    "n = (10, 1, 1)\n",
    "\n",
    "region = df.Region(p1=p1, p2=p2)\n",
    "mesh = df.Mesh(region=region, n=n)\n",
    "\n",
    "mesh.k3d()"
   ]
  },
  {
   "cell_type": "markdown",
   "metadata": {},
   "source": [
    "### Zeeman energy\n",
    "\n",
    "To demonstrate the effect of Zeeman energy we will apply an external magnetic field $H = 10^{6} \\,\\text{A}\\,\\text{m}^{-1}$ in the positive $z$-direction to the one-dimensional array of magnetic moments. For the initial magnetisation configuration, we will take the $(1, 0, 1)$ direction with $M_\\text{s} = 8 \\times 10^{6} \\,\\text{A}\\,\\text{m}^{-1}$."
   ]
  },
  {
   "cell_type": "code",
   "execution_count": 63,
   "metadata": {},
   "outputs": [
    {
     "data": {
      "application/vnd.jupyter.widget-view+json": {
       "model_id": "7a57b7d6fc3846eab569131351afe937",
       "version_major": 2,
       "version_minor": 0
      },
      "text/plain": [
       "Output()"
      ]
     },
     "metadata": {},
     "output_type": "display_data"
    }
   ],
   "source": [
    "H = (0, 0, 1e6)  # external magnetic field (A/m)\n",
    "Ms = 8e6  # saturation magnetisation (A/m)\n",
    "\n",
    "system = mm.System(name='zeeman')  # named micromagnetic system\n",
    "system.energy = mm.Zeeman(H=H)  # define energy equation\n",
    "system.m = df.Field(mesh, dim=3, value=(1, 0, 1), norm=Ms)  # define initial magnetisation\n",
    "\n",
    "system.m.k3d_vectors(head_size=3)"
   ]
  },
  {
   "cell_type": "markdown",
   "metadata": {},
   "source": [
    "After we defined our system, we can minimize its energy using `MinDriver`."
   ]
  },
  {
   "cell_type": "code",
   "execution_count": 50,
   "metadata": {},
   "outputs": [
    {
     "name": "stdout",
     "output_type": "stream",
     "text": [
      "Running OOMMF (ExeOOMMFRunner) [2020/04/29 09:03]... (1.9 s)\n"
     ]
    },
    {
     "data": {
      "application/vnd.jupyter.widget-view+json": {
       "model_id": "8486cd482f38479da774fced86941fe4",
       "version_major": 2,
       "version_minor": 0
      },
      "text/plain": [
       "Output()"
      ]
     },
     "metadata": {},
     "output_type": "display_data"
    }
   ],
   "source": [
    "import oommfc as oc\n",
    "\n",
    "md = oc.MinDriver()  # create energy minimisation driver\n",
    "md.drive(system)  # run energy minimisation\n",
    "\n",
    "system.m.k3d_vectors(head_size=3)"
   ]
  },
  {
   "cell_type": "markdown",
   "metadata": {},
   "source": [
    "After applying the magnetic field, all magnetic moments align parallel to $\\mathbf{H}$.\n",
    "\n",
    "Now, we can change the direction of $\\mathbf{H}$ to be in the negative $x$-direction and inspect the relaxed magnetisation state."
   ]
  },
  {
   "cell_type": "code",
   "execution_count": 52,
   "metadata": {},
   "outputs": [
    {
     "name": "stdout",
     "output_type": "stream",
     "text": [
      "Running OOMMF (ExeOOMMFRunner) [2020/04/29 09:03]... (1.8 s)\n"
     ]
    },
    {
     "data": {
      "image/png": "[encoded data removed]",
      "text/plain": [
       "<Figure size 432x288 with 2 Axes>"
      ]
     },
     "metadata": {
      "needs_background": "light"
     },
     "output_type": "display_data"
    }
   ],
   "source": [
    "system.energy.zeeman.H = (-1e6, 0, 0)\n",
    "md.drive(system)\n",
    "system.m.plane('y').mpl()"
   ]
  },
  {
   "cell_type": "markdown",
   "metadata": {},
   "source": [
    "## Uniaxial anisotropy\n",
    "\n",
    "Let's assume our anisotropy axis is in the $(1, 0, 1)$ direction with $K = 6 \\times 10^{6} \\,\\text{J}\\,\\text{m}^{-3}$ and the initial magnetisation is defined as\n",
    "\n",
    "$$\\mathbf{m} = \\begin{cases} (-1, 0, -0.1) & \\text{for } x \\le 5 \\,\\text{nm} \\\\ (1, 0, 0.1) & \\text{for } x > 5 \\,\\text{nm} \\end{cases}$$\n",
    "\n",
    "with $M_\\text{s} = 8 \\times 10^{6} \\,\\text{A}\\,\\text{m}^{-1}$."
   ]
  },
  {
   "cell_type": "code",
   "execution_count": 55,
   "metadata": {},
   "outputs": [
    {
     "data": {
      "application/vnd.jupyter.widget-view+json": {
       "model_id": "b76a33d876b44b52a312533c9c0f3012",
       "version_major": 2,
       "version_minor": 0
      },
      "text/plain": [
       "Output()"
      ]
     },
     "metadata": {},
     "output_type": "display_data"
    }
   ],
   "source": [
    "system = mm.System(name='uniaxial_anisotropy')\n",
    "system.energy = mm.UniaxialAnisotropy(K=6e6, u=(1, 0, 1))\n",
    "\n",
    "def m_initial(pos):\n",
    "    x, y, z = pos\n",
    "    if x <= 5e-9:\n",
    "        return (-1, 0, -0.1)\n",
    "    else:\n",
    "        return (1, 0, 0.1)\n",
    "\n",
    "system.m = df.Field(mesh, dim=3, value=m_initial, norm=Ms)\n",
    "\n",
    "system.m.k3d_vectors(head_size=3)"
   ]
  },
  {
   "cell_type": "markdown",
   "metadata": {},
   "source": [
    "We can now relax the magnetisation."
   ]
  },
  {
   "cell_type": "code",
   "execution_count": 56,
   "metadata": {},
   "outputs": [
    {
     "name": "stdout",
     "output_type": "stream",
     "text": [
      "Running OOMMF (ExeOOMMFRunner) [2020/04/29 09:04]... (2.2 s)\n"
     ]
    },
    {
     "data": {
      "application/vnd.jupyter.widget-view+json": {
       "model_id": "3de06bf7474c4f76bf249d20d7ae16a4",
       "version_major": 2,
       "version_minor": 0
      },
      "text/plain": [
       "Output()"
      ]
     },
     "metadata": {},
     "output_type": "display_data"
    }
   ],
   "source": [
    "md.drive(system)\n",
    "system.m.k3d_vectors(head_size=3)"
   ]
  },
  {
   "cell_type": "markdown",
   "metadata": {},
   "source": [
    "We see that in the relaxed state, all magnetic moments are aligned with the aniostropy axis. The initial configuration affects which orientation along the anisotropy direction is chosen.\n",
    "\n",
    "## Exchange energy\n",
    "\n",
    "To demonstrate how exchange energy affects the magnetisation configuration, we use $A = 8 \\,\\text{pJ}\\,\\text{m}^{-1}$ on a non-uniform magnetisation configuration."
   ]
  },
  {
   "cell_type": "code",
   "execution_count": 57,
   "metadata": {},
   "outputs": [
    {
     "data": {
      "application/vnd.jupyter.widget-view+json": {
       "model_id": "f445c5d908f345f6875ee08a11e0b0c2",
       "version_major": 2,
       "version_minor": 0
      },
      "text/plain": [
       "Output()"
      ]
     },
     "metadata": {},
     "output_type": "display_data"
    }
   ],
   "source": [
    "system = mm.System(name='exchange')\n",
    "system.energy = mm.Exchange(A=8e-12)\n",
    "\n",
    "def m_initial(pos):\n",
    "    x, y, z = pos\n",
    "    if x <= 5e-9:\n",
    "        return (0, 0, 1)  # z-direction\n",
    "    else:\n",
    "        return (1, 0, 0)  # x-direction\n",
    "    \n",
    "system.m = df.Field(mesh, dim=3, value=m_initial, norm=Ms)\n",
    "\n",
    "system.m.k3d_vectors(head_size=3)"
   ]
  },
  {
   "cell_type": "code",
   "execution_count": 58,
   "metadata": {},
   "outputs": [
    {
     "name": "stdout",
     "output_type": "stream",
     "text": [
      "Running OOMMF (ExeOOMMFRunner) [2020/04/29 09:04]... (1.7 s)\n"
     ]
    },
    {
     "data": {
      "application/vnd.jupyter.widget-view+json": {
       "model_id": "c863fc0e5dce48a1b1dc55e3f946ff37",
       "version_major": 2,
       "version_minor": 0
      },
      "text/plain": [
       "Output()"
      ]
     },
     "metadata": {},
     "output_type": "display_data"
    }
   ],
   "source": [
    "md.drive(system)\n",
    "system.m.k3d_vectors(head_size=3)"
   ]
  },
  {
   "cell_type": "markdown",
   "metadata": {},
   "source": [
    "## Dzyaloshinkii-Moriya energy\n",
    "\n",
    "While the exchange interaction aims to align (neighbouring) magnetic moments parallel to each other, the Dzyaloshinskii-Moriya (DM) energy wants to align them perpendicular to each other.\n",
    "\n",
    "There are two parameters that must be defined for Dzyaloshinskii-Moriya energy term. The first one is the DMI energy constant and the other is the crystalographic class. Crystalographic class can be: `T`, `O`, `Cnv`, or `D2d`.\n",
    "\n",
    "Again, we demonstrate its effect by starting from a uniform configuration, with $D = 3\\times10^{3} \\,\\text{J}\\,\\text{m}^{-2}$."
   ]
  },
  {
   "cell_type": "code",
   "execution_count": 59,
   "metadata": {},
   "outputs": [
    {
     "name": "stdout",
     "output_type": "stream",
     "text": [
      "Running OOMMF (ExeOOMMFRunner) [2020/04/29 09:07]... (1.7 s)\n"
     ]
    },
    {
     "data": {
      "application/vnd.jupyter.widget-view+json": {
       "model_id": "18eb836ff0ab428a8f4472fbb9fc9c29",
       "version_major": 2,
       "version_minor": 0
      },
      "text/plain": [
       "Output()"
      ]
     },
     "metadata": {},
     "output_type": "display_data"
    }
   ],
   "source": [
    "system = mm.System(name='dmi')\n",
    "system.energy = mm.DMI(D=3e-3, crystalclass='T')\n",
    "system.m = df.Field(mesh, dim=3, value=(0, 0, 1), norm=Ms)\n",
    "\n",
    "md.drive(system)\n",
    "\n",
    "system.m.k3d_vectors(head_size=3)"
   ]
  },
  {
   "cell_type": "markdown",
   "metadata": {},
   "source": [
    "Now, we can change the crystallographic class and see what happens to the relaxed magnetisation."
   ]
  },
  {
   "cell_type": "code",
   "execution_count": 60,
   "metadata": {},
   "outputs": [
    {
     "name": "stdout",
     "output_type": "stream",
     "text": [
      "Running OOMMF (ExeOOMMFRunner) [2020/04/29 09:09]... (1.7 s)\n"
     ]
    },
    {
     "data": {
      "application/vnd.jupyter.widget-view+json": {
       "model_id": "57207b51c60a4e639e485c02a011a42f",
       "version_major": 2,
       "version_minor": 0
      },
      "text/plain": [
       "Output()"
      ]
     },
     "metadata": {},
     "output_type": "display_data"
    }
   ],
   "source": [
    "system.energy.dmi.crystalclass = 'Cnv'\n",
    "md.drive(system)\n",
    "system.m.k3d_vectors(head_size=3)"
   ]
  },
  {
   "cell_type": "markdown",
   "metadata": {},
   "source": [
    "## Multiple energy terms\n",
    "\n",
    "Multiple energy terms are added to the energy equation by applying a binary `+` operator.\n",
    "\n",
    "As an example, we want to relax a one-dimensional chain of magnetic moments of length $L = 20 \\,\\text{nm}$ with 20 discretisation cells. The energy equation consists of:\n",
    "\n",
    "- exchange energy with $A=1 \\times 10^{-11} \\,\\text{J}\\,\\text{m}^{-1}$, and\n",
    "- Dzyaloshinskii-Moriya energy with $D = 4\\pi A/L \\approx 6.28 \\times 10^{-3} \\,\\text{J}\\,\\text{m}^{-2}$ and `T` crystal class.\n",
    "\n",
    "The magnetisation saturation is $M_\\mathrm{s} = 8 \\times 10^{6} \\,\\text{A}\\,\\text{m}^{-1}$ and we start with a uniform magnetisation state."
   ]
  },
  {
   "cell_type": "code",
   "execution_count": 68,
   "metadata": {},
   "outputs": [
    {
     "name": "stdout",
     "output_type": "stream",
     "text": [
      "Running OOMMF (ExeOOMMFRunner) [2020/04/29 09:16]... (1.8 s)\n"
     ]
    },
    {
     "data": {
      "application/vnd.jupyter.widget-view+json": {
       "model_id": "25aa17e349134c4fac1fc57ef0e97a48",
       "version_major": 2,
       "version_minor": 0
      },
      "text/plain": [
       "Output()"
      ]
     },
     "metadata": {},
     "output_type": "display_data"
    }
   ],
   "source": [
    "A = 1e-11  # exchange energy constant (J/m)\n",
    "D = 6.28e-3  # DMI energy constant (J/m**2)\n",
    "Ms = 8e6 # Saturation magnetisation (A/m)\n",
    "\n",
    "region = df.Region(p1=(0, 0, 0), p2=(20e-9, 1e-9, 1e-9))\n",
    "mesh = df.Mesh(region=region, cell=(1e-9, 1e-9, 1e-9))\n",
    "system = mm.System(name='exchange_and_DMI')\n",
    "system.energy = mm.Exchange(A=A) + mm.DMI(D=D, crystalclass='T')\n",
    "system.m = df.Field(mesh, dim=3, value=(0, 1, 1), norm=Ms)\n",
    "\n",
    "md = oc.MinDriver()  # create energy minimisation driver\n",
    "md.drive(system)\n",
    "\n",
    "system.m.plane('y').k3d_vectors(color_field=system.m.z)"
   ]
  },
  {
   "cell_type": "markdown",
   "metadata": {},
   "source": [
    "We can also sample the magnetisation along the sample."
   ]
  },
  {
   "cell_type": "code",
   "execution_count": 79,
   "metadata": {},
   "outputs": [
    {
     "data": {
      "image/png": "[encoded data removed]",
      "text/plain": [
       "<Figure size 432x288 with 1 Axes>"
      ]
     },
     "metadata": {},
     "output_type": "display_data"
    }
   ],
   "source": [
    "system.m.line(p1=system.m.mesh.region.pmin, p2=system.m.mesh.region.pmax, n=19).mpl()"
   ]
  },
  {
   "cell_type": "markdown",
   "metadata": {},
   "source": [
    "## Exercise\n",
    "\n",
    "Modify the following code in order to obtain a Bloch skyrmion in a disk."
   ]
  },
  {
   "cell_type": "code",
   "execution_count": 91,
   "metadata": {},
   "outputs": [
    {
     "name": "stdout",
     "output_type": "stream",
     "text": [
      "Running OOMMF (ExeOOMMFRunner) [2020/04/29 09:31]... (1.8 s)\n"
     ]
    },
    {
     "data": {
      "image/png": "[encoded data removed]",
      "text/plain": [
       "<Figure size 720x720 with 2 Axes>"
      ]
     },
     "metadata": {},
     "output_type": "display_data"
    }
   ],
   "source": [
    "d = 100e-9\n",
    "thickness = 5e-9\n",
    "cell = 3*(5e-9,)\n",
    "\n",
    "p1 = (-d/2, -d/2, 0)\n",
    "p2 = (d/2, d/2, thickness)\n",
    "region = df.Region(p1=p1, p2=p2)\n",
    "mesh = df.Mesh(region=region, cell=cell)\n",
    "system = mm.System(name='skyrmion')\n",
    "system.energy = mm.Exchange(A=8.78e-12) + mm.DMI(D=1.58e-3, crystalclass='T') + mm.Demag()\n",
    "\n",
    "def m_initial(point):\n",
    "    x, y, z = point\n",
    "    if x**2 + y**2 < (d/4)**2:\n",
    "        return (0, 0, -1)\n",
    "    else:\n",
    "        return (0, 0, 1)\n",
    "    \n",
    "def Ms_fun(point):\n",
    "    x, y, z = point\n",
    "    if x**2 + y**2 < (d/2)**2:\n",
    "        return 3.84e5\n",
    "    else:\n",
    "        return 0\n",
    "    \n",
    "system.m = df.Field(mesh, dim=3, value=m_initial, norm=Ms_fun)\n",
    "\n",
    "md = oc.MinDriver()\n",
    "md.drive(system)\n",
    "\n",
    "system.m.plane('z').mpl(figsize=(10, 10))"
   ]
  },
  {
   "cell_type": "code",
   "execution_count": null,
   "metadata": {},
   "outputs": [],
   "source": []
  }
 ],
 "metadata": {
  "kernelspec": {
   "display_name": "Python 3",
   "language": "python",
   "name": "python3"
  },
  "language_info": {
   "codemirror_mode": {
    "name": "ipython",
    "version": 3
   },
   "file_extension": ".py",
   "mimetype": "text/x-python",
   "name": "python",
   "nbconvert_exporter": "python",
   "pygments_lexer": "ipython3",
   "version": "3.8.1"
  },
  "widgets": {
   "application/vnd.jupyter.widget-state+json": {
    "state": {
     "0c91a4718bc8416d8f3f0a553f695dc7": {
      "model_module": "@jupyter-widgets/base",
      "model_module_version": "1.2.0",
      "model_name": "LayoutModel",
      "state": {}
     },
     "3007bc9e903d46478dd40a498bfe655d": {
      "model_module": "k3d",
      "model_module_version": "2.7.4",
      "model_name": "PlotModel",
      "state": {
       "_backend_version": "2.7.4",
       "_dom_classes": [],
       "_view_count": null,
       "antialias": 3,
       "auto_rendering": true,
       "axes": [
        "x (nm)",
        "y (nm)",
        "z (nm)"
       ],
       "axes_helper": 1,
       "background_color": 16777215,
       "camera": [
        13.45843140614532,
        -12.262647099159695,
        1.350843139943978,
        4.9500000067055225,
        0.5,
        0.5,
        0,
        0,
        1
       ],
       "camera_animation": [],
       "camera_auto_fit": true,
       "camera_fov": 60,
       "camera_no_pan": false,
       "camera_no_rotate": false,
       "camera_no_zoom": false,
       "clipping_planes": [],
       "colorbar_object_id": -1,
       "fps": 25,
       "fps_meter": false,
       "grid": [
        -1,
        -1,
        -1,
        1,
        1,
        1
       ],
       "grid_auto_fit": true,
       "grid_visible": true,
       "height": 512,
       "layout": "IPY_MODEL_cffc94bb81d04cdf8cc20b82bd5437a2",
       "lighting": 1.5,
       "menu_visibility": true,
       "mode": "view",
       "name": null,
       "object_ids": [
        140674482898896
       ],
       "rendering_steps": 1,
       "screenshot": "",
       "screenshot_scale": 2,
       "snapshot": "",
       "time": 0,
       "voxel_paint_color": 0
      }
     },
     "365efbe896eb4e71b2a318445331d7bb": {
      "buffers": [
       {
        "data": "eNoDAAAAAAE=",
        "encoding": "base64",
        "path": [
         "colors",
         "compressed_buffer"
        ]
       },
       {
        "data": "eNpjYGiwZ8AAxIsBAF7EAv0=",
        "encoding": "base64",
        "path": [
         "model_matrix",
         "compressed_buffer"
        ]
       },
       {
        "data": "eNoDAAAAAAE=",
        "encoding": "base64",
        "path": [
         "opacities",
         "compressed_buffer"
        ]
       },
       {
        "data": "eNpjYGCwZ4DjA0hsBQcYm5EhwQEhPgGJvQFJzQUk8Q9IbA5HBFsCia2BxLZwRJjjgcSOQGJnIKmvQGK3ILF7kNhTkNhz4GwA3oQXaA==",
        "encoding": "base64",
        "path": [
         "positions",
         "compressed_buffer"
        ]
       }
      ],
      "model_module": "k3d",
      "model_module_version": "2.7.4",
      "model_name": "ObjectModel",
      "state": {
       "_view_count": null,
       "_view_module": null,
       "_view_module_version": "",
       "_view_name": null,
       "color": 5010096,
       "colorLegend": false,
       "colors": {
        "compressed_buffer": {},
        "dtype": "uint32",
        "shape": [
         0
        ]
       },
       "compression_level": 0,
       "id": 140675199979088,
       "mesh_detail": 2,
       "model_matrix": {
        "compressed_buffer": {},
        "dtype": "float32",
        "shape": [
         4,
         4
        ]
       },
       "name": "Points #1",
       "opacities": {
        "compressed_buffer": {},
        "dtype": "float32",
        "shape": [
         0
        ]
       },
       "opacity": 1,
       "point_size": 0.25,
       "positions": {
        "compressed_buffer": {},
        "dtype": "float32",
        "shape": [
         20,
         3
        ]
       },
       "shader": "3dSpecular",
       "type": "Points",
       "visible": true
      }
     },
     "3e23ce32fd814c1bb50bc5c137e3538b": {
      "model_module": "@jupyter-widgets/base",
      "model_module_version": "1.2.0",
      "model_name": "LayoutModel",
      "state": {}
     },
     "4ce1362434dd468db41f46a9fd0bfbc0": {
      "model_module": "@jupyter-widgets/base",
      "model_module_version": "1.2.0",
      "model_name": "LayoutModel",
      "state": {}
     },
     "53941e13171d4d478036cb4116063d54": {
      "model_module": "@jupyter-widgets/base",
      "model_module_version": "1.2.0",
      "model_name": "LayoutModel",
      "state": {}
     },
     "54df454c55e846f2b2920146b4dacb7c": {
      "model_module": "@jupyter-widgets/output",
      "model_module_version": "1.0.0",
      "model_name": "OutputModel",
      "state": {
       "layout": "IPY_MODEL_3e23ce32fd814c1bb50bc5c137e3538b",
       "outputs": [
        {
         "data": {
          "application/vnd.jupyter.widget-view+json": {
           "model_id": "6545bb4efe424565bdb12f51dfc3ff14",
           "version_major": 2,
           "version_minor": 0
          },
          "text/plain": "Plot(antialias=3, axes=['x', 'y', 'z'], axes_helper=1.0, background_color=16777215, camera=[2, -3, 0.2, 0.0, 0…"
         },
         "metadata": {},
         "output_type": "display_data"
        }
       ]
      }
     },
     "5a048a18136a419283e7d53a0dde54c8": {
      "model_module": "@jupyter-widgets/output",
      "model_module_version": "1.0.0",
      "model_name": "OutputModel",
      "state": {
       "layout": "IPY_MODEL_d5997371cfef4a9ba5d75085f4338258",
       "outputs": [
        {
         "data": {
          "application/vnd.jupyter.widget-view+json": {
           "model_id": "5f14441636244cd8b2bd230a64721453",
           "version_major": 2,
           "version_minor": 0
          },
          "text/plain": "Plot(antialias=3, axes=['x', 'y', 'z'], axes_helper=1.0, background_color=16777215, camera=[2, -3, 0.2, 0.0, 0…"
         },
         "metadata": {},
         "output_type": "display_data"
        }
       ]
      }
     },
     "5f14441636244cd8b2bd230a64721453": {
      "model_module": "k3d",
      "model_module_version": "2.7.4",
      "model_name": "PlotModel",
      "state": {
       "_backend_version": "2.7.4",
       "_dom_classes": [],
       "_view_count": null,
       "antialias": 3,
       "auto_rendering": true,
       "axes": [
        "x (nm)",
        "y (nm)",
        "z (nm)"
       ],
       "axes_helper": 1,
       "background_color": 16777215,
       "camera": [
        26.015022451936375,
        -23.522533677904566,
        2.1015022600947955,
        10,
        0.5,
        0.5000000149011612,
        0,
        0,
        1
       ],
       "camera_animation": [],
       "camera_auto_fit": true,
       "camera_fov": 60,
       "camera_no_pan": false,
       "camera_no_rotate": false,
       "camera_no_zoom": false,
       "clipping_planes": [],
       "colorbar_object_id": -1,
       "fps": 25,
       "fps_meter": false,
       "grid": [
        -1,
        -1,
        -1,
        1,
        1,
        1
       ],
       "grid_auto_fit": true,
       "grid_visible": true,
       "height": 512,
       "layout": "IPY_MODEL_666989f41d364619a059ab2b3e1f37e3",
       "lighting": 1.5,
       "menu_visibility": true,
       "mode": "view",
       "name": null,
       "object_ids": [
        140675199842896,
        140675199927824
       ],
       "rendering_steps": 1,
       "screenshot": "",
       "screenshot_scale": 2,
       "snapshot": "",
       "time": 0,
       "voxel_paint_color": 0
      }
     },
     "6545bb4efe424565bdb12f51dfc3ff14": {
      "model_module": "k3d",
      "model_module_version": "2.7.4",
      "model_name": "PlotModel",
      "state": {
       "_backend_version": "2.7.4",
       "_dom_classes": [],
       "_view_count": null,
       "antialias": 3,
       "auto_rendering": true,
       "axes": [
        "x (nm)",
        "y (nm)",
        "z (nm)"
       ],
       "axes_helper": 1,
       "background_color": 16777215,
       "camera": [
        26.035482368337913,
        -23.55322355250687,
        2.1035482368337886,
        10,
        0.5,
        0.5,
        0,
        0,
        1
       ],
       "camera_animation": [],
       "camera_auto_fit": true,
       "camera_fov": 60,
       "camera_no_pan": false,
       "camera_no_rotate": false,
       "camera_no_zoom": false,
       "clipping_planes": [],
       "colorbar_object_id": -1,
       "fps": 25,
       "fps_meter": false,
       "grid": [
        -1,
        -1,
        -1,
        1,
        1,
        1
       ],
       "grid_auto_fit": true,
       "grid_visible": true,
       "height": 512,
       "layout": "IPY_MODEL_53941e13171d4d478036cb4116063d54",
       "lighting": 1.5,
       "menu_visibility": true,
       "mode": "view",
       "name": null,
       "object_ids": [
        140675199978384,
        140675199979088
       ],
       "rendering_steps": 1,
       "screenshot": "",
       "screenshot_scale": 2,
       "snapshot": "",
       "time": 0,
       "voxel_paint_color": 0
      }
     },
     "666989f41d364619a059ab2b3e1f37e3": {
      "model_module": "@jupyter-widgets/base",
      "model_module_version": "1.2.0",
      "model_name": "LayoutModel",
      "state": {}
     },
     "6a0b0dd80a3646f5b78dd2c0e13eb701": {
      "model_module": "k3d",
      "model_module_version": "2.7.4",
      "model_name": "PlotModel",
      "state": {
       "_backend_version": "2.7.4",
       "_dom_classes": [],
       "_view_count": null,
       "antialias": 3,
       "auto_rendering": true,
       "axes": [
        "x (nm)",
        "y (nm)",
        "z (nm)"
       ],
       "axes_helper": 1,
       "background_color": 16777215,
       "camera": [
        26.015022451936375,
        -23.522533677904566,
        2.1015022600947955,
        10,
        0.5,
        0.5000000149011612,
        0,
        0,
        1
       ],
       "camera_animation": [],
       "camera_auto_fit": true,
       "camera_fov": 60,
       "camera_no_pan": false,
       "camera_no_rotate": false,
       "camera_no_zoom": false,
       "clipping_planes": [],
       "colorbar_object_id": -1,
       "fps": 25,
       "fps_meter": false,
       "grid": [
        -1,
        -1,
        -1,
        1,
        1,
        1
       ],
       "grid_auto_fit": true,
       "grid_visible": true,
       "height": 512,
       "layout": "IPY_MODEL_4ce1362434dd468db41f46a9fd0bfbc0",
       "lighting": 1.5,
       "menu_visibility": true,
       "mode": "view",
       "name": null,
       "object_ids": [
        140675200419216,
        140675199580944
       ],
       "rendering_steps": 1,
       "screenshot": "",
       "screenshot_scale": 2,
       "snapshot": "",
       "time": 0,
       "voxel_paint_color": 0
      }
     },
     "7612af8f879b457d948a3513470a269a": {
      "model_module": "@jupyter-widgets/output",
      "model_module_version": "1.0.0",
      "model_name": "OutputModel",
      "state": {
       "layout": "IPY_MODEL_0c91a4718bc8416d8f3f0a553f695dc7",
       "outputs": [
        {
         "data": {
          "application/vnd.jupyter.widget-view+json": {
           "model_id": "3007bc9e903d46478dd40a498bfe655d",
           "version_major": 2,
           "version_minor": 0
          },
          "text/plain": "Plot(antialias=3, axes=['x', 'y', 'z'], axes_helper=1.0, background_color=16777215, camera=[2, -3, 0.2, 0.0, 0…"
         },
         "metadata": {},
         "output_type": "display_data"
        }
       ]
      }
     },
     "77ccddfbe621455f9570d773d8f587ce": {
      "buffers": [
       {
        "data": "eNrzU2Jg8APiDF0IzrPXBOOcMD8wLi4sAOOKvslgnLt6JxhHHb8Nxk63P4OxxYt/KBgmDlMH0wczB2YuzB6YvTB3+EHdBQB7nzdN",
        "encoding": "base64",
        "path": [
         "colors",
         "compressed_buffer"
        ]
       },
       {
        "data": "eNpjYGiwZ8AAxIsBAF7EAv0=",
        "encoding": "base64",
        "path": [
         "model_matrix",
         "compressed_buffer"
        ]
       },
       {
        "data": "eNpL+iNvz8DAYG+9uMa++e1DMHtHSK59Y7yFA4jt9DvYXq67Fsz+9MoIKL8AzPbS5bU3PrTfgRHI7i4+Y3dV8B6YvcGj2W622G8wW0WV2y6om9sRxL7xyN32n7kkmN3g6G/NdEINzl5XYgJXs7nEyRGmV/x7gCPMzBdyCY4wuxgYChxhbpjj1+AIc5vAlw5HmJs1Hk50hPlFlmG2I8yPALp4REo=",
        "encoding": "base64",
        "path": [
         "origins",
         "compressed_buffer"
        ]
       },
       {
        "data": "eNoTfFy/r1aU3bDMrXI/zzb2/ZHLn+sXrIzaz/XHaf8ptS2bWr+p738ZkbN/641bm06tPr2PgaFh//bJQZvnXLm0V0e5Zr+b4JTNVw397BxkE/dPMTy8eX7eT7tNmYb7F6l83JyXa2VffOXRvmeLGLcsZU63F/wvvY/ZlG9LbWIdiG0HYwPV2MHUAPXaw/QCzbSHmQm0yx5mF9AN9jA3AN1mD3Mb0M32MDcD/WIP84vg43o7mB8BKc9y+Q==",
        "encoding": "base64",
        "path": [
         "vectors",
         "compressed_buffer"
        ]
       }
      ],
      "model_module": "k3d",
      "model_module_version": "2.7.4",
      "model_name": "ObjectModel",
      "state": {
       "_view_count": null,
       "_view_module": null,
       "_view_module_version": "",
       "_view_name": null,
       "colorLegend": false,
       "colors": {
        "compressed_buffer": {},
        "dtype": "uint32",
        "shape": [
         20,
         2
        ]
       },
       "compression_level": 0,
       "head_color": 255,
       "head_size": 1,
       "id": 140675199842896,
       "label_size": 1,
       "labels": [],
       "line_width": 0.01,
       "model_matrix": {
        "compressed_buffer": {},
        "dtype": "float32",
        "shape": [
         4,
         4
        ]
       },
       "name": "Vectors #1",
       "origin_color": 255,
       "origins": {
        "compressed_buffer": {},
        "dtype": "float32",
        "shape": [
         20,
         3
        ]
       },
       "type": "Vectors",
       "use_head": true,
       "vectors": {
        "compressed_buffer": {},
        "dtype": "float32",
        "shape": [
         20,
         3
        ]
       },
       "visible": true
      }
     },
     "a2ce40195fee47408ea7fe94b7ad917b": {
      "model_module": "@jupyter-widgets/base",
      "model_module_version": "1.2.0",
      "model_name": "LayoutModel",
      "state": {}
     },
     "a8d3890471f841259dd057b93454af19": {
      "buffers": [
       {
        "data": "eNrzU2Jg8APiDF0IzrPXBOOcMD8wLi4sAOOKvslgnLt6JxhHHb8Nxk63P4OxxYt/KBgmDlMH0wczB2YuzB6YvTB3+EHdBQB7nzdN",
        "encoding": "base64",
        "path": [
         "colors",
         "compressed_buffer"
        ]
       },
       {
        "data": "eNpjYGiwZ8AAxIsBAF7EAv0=",
        "encoding": "base64",
        "path": [
         "model_matrix",
         "compressed_buffer"
        ]
       },
       {
        "data": "eNpL+iNvz8DAYG+9uMa++e1DMHtHSK59Y7yFA4jt9DvYXq67Fsz+9MoIKL8AzPbS5bU3PrTfgRHI7i4+Y3dV8B6YvcGj2W622G8wW0WV2y6om9sRxL7xyN32n7kkmN3g6G/NdEINzl5XYgJXs7nEyRGmV/x7gCPMzBdyCY4wuxgYChxhbpjj1+AIc5vAlw5HmJs1Hk50hPlFlmG2I8yPALp4REo=",
        "encoding": "base64",
        "path": [
         "origins",
         "compressed_buffer"
        ]
       },
       {
        "data": "eNoTfFy/r1aU3bDMrXI/zzb2/ZHLn+sXrIzaz/XHaf8ptS2bWr+p738ZkbN/641bm06tPr2PgaFh//bJQZvnXLm0V0e5Zr+b4JTNVw397BxkE/dPMTy8eX7eT7tNmYb7F6l83JyXa2VffOXRvmeLGLcsZU63F/wvvY/ZlG9LbWIdiG0HYwPV2MHUAPXaw/QCzbSHmQm0yx5mF9AN9jA3AN1mD3Mb0M32MDcD/WIP84vg43o7mB8BKc9y+Q==",
        "encoding": "base64",
        "path": [
         "vectors",
         "compressed_buffer"
        ]
       }
      ],
      "model_module": "k3d",
      "model_module_version": "2.7.4",
      "model_name": "ObjectModel",
      "state": {
       "_view_count": null,
       "_view_module": null,
       "_view_module_version": "",
       "_view_name": null,
       "colorLegend": false,
       "colors": {
        "compressed_buffer": {},
        "dtype": "uint32",
        "shape": [
         20,
         2
        ]
       },
       "compression_level": 0,
       "head_color": 255,
       "head_size": 1,
       "id": 140675200419216,
       "label_size": 1,
       "labels": [],
       "line_width": 0.01,
       "model_matrix": {
        "compressed_buffer": {},
        "dtype": "float32",
        "shape": [
         4,
         4
        ]
       },
       "name": "Vectors #1",
       "origin_color": 255,
       "origins": {
        "compressed_buffer": {},
        "dtype": "float32",
        "shape": [
         20,
         3
        ]
       },
       "type": "Vectors",
       "use_head": true,
       "vectors": {
        "compressed_buffer": {},
        "dtype": "float32",
        "shape": [
         20,
         3
        ]
       },
       "visible": true
      }
     },
     "b0ffa880421c49bd85bbd6d1c7f48422": {
      "buffers": [
       {
        "data": "eNoDAAAAAAE=",
        "encoding": "base64",
        "path": [
         "colors",
         "compressed_buffer"
        ]
       },
       {
        "data": "eNpjYGiwZ8AAxIsBAF7EAv0=",
        "encoding": "base64",
        "path": [
         "model_matrix",
         "compressed_buffer"
        ]
       },
       {
        "data": "eNoDAAAAAAE=",
        "encoding": "base64",
        "path": [
         "opacities",
         "compressed_buffer"
        ]
       },
       {
        "data": "eNpjYGCwZ4DjA0hsBQcYm5EhwQEhPgGJvQFJzQUk8Q9IbA5HBFsCia2BxLZwRJjjgcSOQGJnIKmvQGK3ILF7kNhTkNhz4GwA3oQXaA==",
        "encoding": "base64",
        "path": [
         "positions",
         "compressed_buffer"
        ]
       }
      ],
      "model_module": "k3d",
      "model_module_version": "2.7.4",
      "model_name": "ObjectModel",
      "state": {
       "_view_count": null,
       "_view_module": null,
       "_view_module_version": "",
       "_view_name": null,
       "color": 5010096,
       "colorLegend": false,
       "colors": {
        "compressed_buffer": {},
        "dtype": "uint32",
        "shape": [
         0
        ]
       },
       "compression_level": 0,
       "id": 140675199580944,
       "mesh_detail": 2,
       "model_matrix": {
        "compressed_buffer": {},
        "dtype": "float32",
        "shape": [
         4,
         4
        ]
       },
       "name": "Points #1",
       "opacities": {
        "compressed_buffer": {},
        "dtype": "float32",
        "shape": [
         0
        ]
       },
       "opacity": 1,
       "point_size": 0.25,
       "positions": {
        "compressed_buffer": {},
        "dtype": "float32",
        "shape": [
         20,
         3
        ]
       },
       "shader": "3dSpecular",
       "type": "Points",
       "visible": true
      }
     },
     "c9158bbbc0b442439ca7976c35393631": {
      "buffers": [
       {
        "data": "eNoDAAAAAAE=",
        "encoding": "base64",
        "path": [
         "colors",
         "compressed_buffer"
        ]
       },
       {
        "data": "eNpjYGiwZ8AAxIsBAF7EAv0=",
        "encoding": "base64",
        "path": [
         "model_matrix",
         "compressed_buffer"
        ]
       },
       {
        "data": "eNoDAAAAAAE=",
        "encoding": "base64",
        "path": [
         "opacities",
         "compressed_buffer"
        ]
       },
       {
        "data": "eNpjYGCwZ4DjA0hsBQcYm5EhwQEhPgGJvQFJzQUk8Q9IbA5HBFsCia2BxLZwRJjjgcSOQGJnIKmvQGK3ILF7kNhTkNhz4GwA3oQXaA==",
        "encoding": "base64",
        "path": [
         "positions",
         "compressed_buffer"
        ]
       }
      ],
      "model_module": "k3d",
      "model_module_version": "2.7.4",
      "model_name": "ObjectModel",
      "state": {
       "_view_count": null,
       "_view_module": null,
       "_view_module_version": "",
       "_view_name": null,
       "color": 5010096,
       "colorLegend": false,
       "colors": {
        "compressed_buffer": {},
        "dtype": "uint32",
        "shape": [
         0
        ]
       },
       "compression_level": 0,
       "id": 140675199927824,
       "mesh_detail": 2,
       "model_matrix": {
        "compressed_buffer": {},
        "dtype": "float32",
        "shape": [
         4,
         4
        ]
       },
       "name": "Points #1",
       "opacities": {
        "compressed_buffer": {},
        "dtype": "float32",
        "shape": [
         0
        ]
       },
       "opacity": 1,
       "point_size": 0.25,
       "positions": {
        "compressed_buffer": {},
        "dtype": "float32",
        "shape": [
         20,
         3
        ]
       },
       "shader": "3dSpecular",
       "type": "Points",
       "visible": true
      }
     },
     "cffc94bb81d04cdf8cc20b82bd5437a2": {
      "model_module": "@jupyter-widgets/base",
      "model_module_version": "1.2.0",
      "model_name": "LayoutModel",
      "state": {}
     },
     "d5997371cfef4a9ba5d75085f4338258": {
      "model_module": "@jupyter-widgets/base",
      "model_module_version": "1.2.0",
      "model_name": "LayoutModel",
      "state": {}
     },
     "dc60b299ad4c4062bca791a93cee07e8": {
      "model_module": "@jupyter-widgets/output",
      "model_module_version": "1.0.0",
      "model_name": "OutputModel",
      "state": {
       "layout": "IPY_MODEL_a2ce40195fee47408ea7fe94b7ad917b",
       "outputs": [
        {
         "data": {
          "application/vnd.jupyter.widget-view+json": {
           "model_id": "6a0b0dd80a3646f5b78dd2c0e13eb701",
           "version_major": 2,
           "version_minor": 0
          },
          "text/plain": "Plot(antialias=3, axes=['x', 'y', 'z'], axes_helper=1.0, background_color=16777215, camera=[2, -3, 0.2, 0.0, 0…"
         },
         "metadata": {},
         "output_type": "display_data"
        }
       ]
      }
     },
     "e48fde4f3c284bec940b97296f4a88dc": {
      "buffers": [
       {
        "data": "eNrbUOTDENRylwEADvwDIg==",
        "encoding": "base64",
        "path": [
         "color_map",
         "compressed_buffer"
        ]
       },
       {
        "data": "eNpjYFBwZICDBQ4QusEeKmCPkAOLIfEhYgB/zAP9",
        "encoding": "base64",
        "path": [
         "model_matrix",
         "compressed_buffer"
        ]
       },
       {
        "data": "eNpjZIQCJgAAQgAM",
        "encoding": "base64",
        "path": [
         "voxels",
         "compressed_buffer"
        ]
       }
      ],
      "model_module": "k3d",
      "model_module_version": "2.7.4",
      "model_name": "ObjectModel",
      "state": {
       "_view_count": null,
       "_view_module": null,
       "_view_module_version": "",
       "_view_name": null,
       "colorLegend": false,
       "color_map": {
        "compressed_buffer": {},
        "dtype": "uint32",
        "shape": [
         2
        ]
       },
       "compression_level": 0,
       "id": 140674482898896,
       "model_matrix": {
        "compressed_buffer": {},
        "dtype": "float32",
        "shape": [
         4,
         4
        ]
       },
       "name": "Voxels #1",
       "opacity": 1,
       "outlines": false,
       "outlines_color": 0,
       "type": "Voxels",
       "visible": true,
       "voxels": {
        "compressed_buffer": {},
        "dtype": "uint8",
        "shape": [
         1,
         1,
         10
        ]
       },
       "wireframe": false
      }
     },
     "f6d8b0b54b934c8a9165204c9e6e2939": {
      "buffers": [
       {
        "data": "eNoLarnLEDSIMQBtm0P5",
        "encoding": "base64",
        "path": [
         "colors",
         "compressed_buffer"
        ]
       },
       {
        "data": "eNpjYGiwZ8AAxIsBAF7EAv0=",
        "encoding": "base64",
        "path": [
         "model_matrix",
         "compressed_buffer"
        ]
       },
       {
        "data": "eNpjYGCwZ4CDA0hsBQcYi5EhwQEhPgGJvQFJzQUk8Q9IbA5HBFsCia2BxLZwRJjjgcSOQGJnIKmvQGK3ILF7kNhTkNhz4GwAXpANkA==",
        "encoding": "base64",
        "path": [
         "origins",
         "compressed_buffer"
        ]
       },
       {
        "data": "eNpjYACBBnsIHv5sALlrHdk=",
        "encoding": "base64",
        "path": [
         "vectors",
         "compressed_buffer"
        ]
       }
      ],
      "model_module": "k3d",
      "model_module_version": "2.7.4",
      "model_name": "ObjectModel",
      "state": {
       "_view_count": null,
       "_view_module": null,
       "_view_module_version": "",
       "_view_name": null,
       "colorLegend": false,
       "colors": {
        "compressed_buffer": {},
        "dtype": "uint32",
        "shape": [
         20,
         2
        ]
       },
       "compression_level": 0,
       "head_color": 255,
       "head_size": 1,
       "id": 140675199978384,
       "label_size": 1,
       "labels": [],
       "line_width": 0.01,
       "model_matrix": {
        "compressed_buffer": {},
        "dtype": "float32",
        "shape": [
         4,
         4
        ]
       },
       "name": "Vectors #1",
       "origin_color": 255,
       "origins": {
        "compressed_buffer": {},
        "dtype": "float32",
        "shape": [
         20,
         3
        ]
       },
       "type": "Vectors",
       "use_head": true,
       "vectors": {
        "compressed_buffer": {},
        "dtype": "float32",
        "shape": [
         20,
         3
        ]
       },
       "visible": true
      }
     }
    },
    "version_major": 2,
    "version_minor": 0
   }
  }
 },
 "nbformat": 4,
 "nbformat_minor": 4
}
