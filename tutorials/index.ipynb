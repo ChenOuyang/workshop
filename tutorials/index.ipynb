{
 "cells": [
  {
   "cell_type": "markdown",
   "metadata": {},
   "source": [
    "# Workshop: Micromagnetics with Ubermag\n",
    "\n",
    "## Session 1:\n",
    "\n",
    "In this session, we will be familiarising ourselves with micromagnetics, Python, and Jupyter and we are going to spend most of the time looking at slides. Slides can be found in `slides` directory in the workshop [repository](https://github.com/ubermag/workshop). After slides (and a short break), we are going to go through the following tutorials:\n",
    "\n",
    "- [Tutorial 00: First Ubermag notebook](00-tutorial-first-ubermag-notebook.ipynb)\n",
    "- [Tutorial 01: Python in 7 minutes](01-tutorial-python-basics.ipynb)"
   ]
  }
 ],
 "metadata": {
  "kernelspec": {
   "display_name": "Python 3",
   "language": "python",
   "name": "python3"
  },
  "language_info": {
   "codemirror_mode": {
    "name": "ipython",
    "version": 3
   },
   "file_extension": ".py",
   "mimetype": "text/x-python",
   "name": "python",
   "nbconvert_exporter": "python",
   "pygments_lexer": "ipython3",
   "version": "3.8.3"
  },
  "widgets": {
   "application/vnd.jupyter.widget-state+json": {
    "state": {},
    "version_major": 2,
    "version_minor": 0
   }
  }
 },
 "nbformat": 4,
 "nbformat_minor": 4
}
