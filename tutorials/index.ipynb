{
 "cells": [
  {
   "cell_type": "markdown",
   "metadata": {},
   "source": [
    "<img src=\"figures/logo.png\" width=100>\n",
    "\n",
    "# Workshop tutorials\n",
    "\n",
    "### Session 1\n",
    "\n",
    "In this session, we are going to familiarise ourselves with micromagnetics, Python, and Jupyter and we are going to spend most of the time looking at slides. Slides can be found in `slides` directory in the workshop [repository](https://github.com/ubermag/workshop). After slides (and a short break), we are going to write our first ubermag simulation and have a look at some Python basics.\n",
    "\n",
    "1. [First Ubermag simulation](first-ubermag-simulation.ipynb)\n",
    "2. [Python basics](python-basics.ipynb)\n",
    "\n",
    "We believe we do not need much Python knowledge in order to run ubermag. However, more you feel confident writing Python, more benefits you can get from ubermag. There are many resources online you can choose from. We can recommend the online one by Hans Fangohr:\n",
    "\n",
    "- https://fangohr.github.io/teaching/python/book.html\n",
    "\n",
    "### Session 2\n",
    "\n",
    "Coming soon ;)"
   ]
  }
 ],
 "metadata": {
  "kernelspec": {
   "display_name": "Python 3",
   "language": "python",
   "name": "python3"
  },
  "language_info": {
   "codemirror_mode": {
    "name": "ipython",
    "version": 3
   },
   "file_extension": ".py",
   "mimetype": "text/x-python",
   "name": "python",
   "nbconvert_exporter": "python",
   "pygments_lexer": "ipython3",
   "version": "3.8.3"
  },
  "widgets": {
   "application/vnd.jupyter.widget-state+json": {
    "state": {},
    "version_major": 2,
    "version_minor": 0
   }
  }
 },
 "nbformat": 4,
 "nbformat_minor": 4
}
