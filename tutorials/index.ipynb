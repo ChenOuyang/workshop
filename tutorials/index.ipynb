{
 "cells": [
  {
   "cell_type": "markdown",
   "metadata": {},
   "source": [
    "<img src=\"figures/logo.png\" width=100>\n",
    "\n",
    "### Session 1\n",
    "\n",
    "In this session, we are going to familiarise ourselves with micromagnetics, Python, and Jupyter and we are going to spend most of the time looking at slides. Slides can be found in `slides` directory in the workshop [repository](https://github.com/ubermag/workshop). After slides (and a short break), we are going to write our first ubermag simulation and have a look at some Python basics.\n",
    "\n",
    "1. [First Ubermag simulation](first-ubermag-simulation.ipynb)\n",
    "2. [Python basics](python-basics.ipynb)\n",
    "\n",
    "We believe we do not need much Python knowledge in order to run ubermag. However, more you feel confident writing Python, more benefits you can get from ubermag. There are many resources online you can choose from. We can recommend the online one by Hans Fangohr:\n",
    "\n",
    "- https://fangohr.github.io/teaching/python/book.html\n",
    "\n",
    "### Session 2\n",
    "\n",
    "In the last session, we introduced some very basic concepts of Ubermag simulations, had a look at some basic Python syntax, and familiarised ourselves with Jupyter environment. In session 2, we are going to have a look into more details of Ubermag simulations, so we can start simulating some real-world problems. In the first half of the session, we are going to analyse the skeleton of Ubermag simulation and quickly go through the three main concepts (magnetisation field, energy equation, and dynamics equation). In each tutorial, we introduce some data analysis and visualisation concepts, which are then going to be the main focus of session 3. After the break, we are going to simulate vortex dynamics, drive domain walls with a spin-polarised current, and have a look at the exercise.\n",
    "\n",
    "1. [Magnetisation field](magnetisation-field.ipynb)\n",
    "2. [Energy equation](energy-equation.ipynb)\n",
    "3. [Dynamics equation](dynamics-equation.ipynb)\n",
    "4. [Vortex dynamics](vortex-dynamics.ipynb)\n",
    "5. [Current induced domain wall motion](driving-dw.ipynb)\n",
    "6. [Exercise](dw-pair-conversion.ipynb)\n",
    "\n",
    "If there is any time left, we will go through:\n",
    "\n",
    "1. [Spatially varying parameters 1](spatially-varying-parameters1.ipynb)\n",
    "2. [Spatially varying parameters 2](spatially-varying-parameters2.ipynb)\n",
    "3. [Periodic boundary conditions](periodic-boundary-conditions.ipynb)"
   ]
  }
 ],
 "metadata": {
  "kernelspec": {
   "display_name": "Python 3",
   "language": "python",
   "name": "python3"
  },
  "language_info": {
   "codemirror_mode": {
    "name": "ipython",
    "version": 3
   },
   "file_extension": ".py",
   "mimetype": "text/x-python",
   "name": "python",
   "nbconvert_exporter": "python",
   "pygments_lexer": "ipython3",
   "version": "3.8.3"
  },
  "widgets": {
   "application/vnd.jupyter.widget-state+json": {
    "state": {},
    "version_major": 2,
    "version_minor": 0
   }
  }
 },
 "nbformat": 4,
 "nbformat_minor": 4
}
